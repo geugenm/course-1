{
 "cells": [
  {
   "cell_type": "code",
   "execution_count": 25,
   "id": "initial_id",
   "metadata": {
    "collapsed": true,
    "ExecuteTime": {
     "end_time": "2024-03-02T19:40:31.724465988Z",
     "start_time": "2024-03-02T19:40:31.713856247Z"
    }
   },
   "outputs": [],
   "source": [
    "import json\n",
    "import logging\n",
    "import os\n",
    "import collections"
   ]
  },
  {
   "cell_type": "code",
   "outputs": [],
   "source": [
    "logger = logging.getLogger(__name__)\n",
    "\n",
    "logging.basicConfig(level=logging.DEBUG,\n",
    "                    format='%(asctime)s - %(name)s - %(levelname)s - %(message)s')\n",
    "\n",
    "logger.setLevel(logging.DEBUG)"
   ],
   "metadata": {
    "collapsed": false,
    "ExecuteTime": {
     "end_time": "2024-03-02T19:40:31.780338294Z",
     "start_time": "2024-03-02T19:40:31.727175215Z"
    }
   },
   "id": "22942d3d56170446",
   "execution_count": 26
  },
  {
   "cell_type": "code",
   "outputs": [],
   "source": [
    "satellite_json: os.path = \"../data/LightSail-2/anomaly_analysis.json\"\n",
    "\n",
    "with open(satellite_json, 'r') as file:\n",
    "        json_stream: str = file.read()\n",
    "        \n",
    "json_data: json = json.loads(json_stream)\n",
    "\n",
    "if not json_data:\n",
    "    logger.error(\"Json data is empty\")\n",
    "    exit(1)\n",
    "    \n",
    "class Satellite:\n",
    "    def __init__(self, norad_id, name, observations_amount, parameters):\n",
    "        self.norad_id: int = norad_id\n",
    "        self.name: str = name\n",
    "        self.observations_amount: int = observations_amount\n",
    "        self.parameters_list = parameters # Todo specify the type, maybe it would be a map or \n",
    "        \n",
    "# column_tags look like:\n",
    "# \"column_tags\": {\n",
    "#               \"some_variable\": \"variable\",\n",
    "#               \"some_constant\": \"constant\",\n",
    "#               \"some_status\": \"status\"\n",
    "#             }\n",
    "\n",
    "satellite_metadata = json_data['metadata']\n",
    "\n",
    "satellite: Satellite = Satellite(satellite_metadata['satellite_norad'], satellite_metadata['satellite_name'], satellite_metadata['total_frames'], satellite_metadata['analysis']['column_tags'])\n",
    "\n",
    "observations = json_data['data']['values'] # Todo also specify the type correctly\n",
    "# ['data']['values'] look like:\n",
    "# \"values\": {\n",
    "#           \"some_constant\": {\n",
    "#               \"individual_values\": [\n",
    "#                   -4.668663925795789,\n",
    "#                   -4.668663925795789,\n",
    "#                   -4.668663925795789\n",
    "#               ]\n",
    "#             },\n",
    "#           \"some_variable\": {\n",
    "#               \"individual_values\": [\n",
    "#                   -4.6642131d5781229,\n",
    "#                   -8.661223925795789,\n",
    "#                   254.668663925795789\n",
    "#               ]\n",
    "#            }\n",
    "#         }\n",
    "# Note, status are also variables\n",
    "# Todo: make correlation plots with pandas between "
   ],
   "metadata": {
    "collapsed": false,
    "ExecuteTime": {
     "end_time": "2024-03-02T19:40:32.478630592Z",
     "start_time": "2024-03-02T19:40:31.772145932Z"
    }
   },
   "id": "b4584750b82ba0f0",
   "execution_count": 27
  }
 ],
 "metadata": {
  "kernelspec": {
   "display_name": "Python 3",
   "language": "python",
   "name": "python3"
  },
  "language_info": {
   "codemirror_mode": {
    "name": "ipython",
    "version": 2
   },
   "file_extension": ".py",
   "mimetype": "text/x-python",
   "name": "python",
   "nbconvert_exporter": "python",
   "pygments_lexer": "ipython2",
   "version": "2.7.6"
  }
 },
 "nbformat": 4,
 "nbformat_minor": 5
}
