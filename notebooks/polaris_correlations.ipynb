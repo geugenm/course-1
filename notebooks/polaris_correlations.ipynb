{
 "cells": [
  {
   "cell_type": "code",
   "execution_count": 7,
   "id": "initial_id",
   "metadata": {
    "collapsed": true,
    "ExecuteTime": {
     "end_time": "2024-03-04T15:12:07.032463585Z",
     "start_time": "2024-03-04T15:12:06.990628112Z"
    }
   },
   "outputs": [],
   "source": [
    "import json\n",
    "import logging\n",
    "import os"
   ]
  },
  {
   "cell_type": "code",
   "outputs": [],
   "source": [
    "logger = logging.getLogger(__name__)\n",
    "\n",
    "logging.basicConfig(level=logging.DEBUG,\n",
    "                    format='%(asctime)s - %(name)s - %(levelname)s - %(message)s')\n",
    "\n",
    "logger.setLevel(logging.DEBUG)"
   ],
   "metadata": {
    "collapsed": false,
    "ExecuteTime": {
     "end_time": "2024-03-04T15:12:07.032877586Z",
     "start_time": "2024-03-04T15:12:07.032384065Z"
    }
   },
   "id": "22942d3d56170446",
   "execution_count": 8
  },
  {
   "cell_type": "code",
   "outputs": [],
   "source": [
    "satellite_json: os.path = \"../data/LightSail-2/cache/normalized_frames.json\"\n",
    "\n",
    "with open(satellite_json, 'r') as file:\n",
    "    json_stream: str = file.read()\n",
    "\n",
    "json_data: dict = json.loads(json_stream)\n",
    "\n",
    "if not json_data:\n",
    "    logger.error(\"Json data is empty\")\n",
    "    exit(1)\n",
    "\n",
    "\n",
    "class Satellite:\n",
    "    def __init__(self, norad_id: int, name: str, observations_amount: int):\n",
    "        self.norad_id: int = norad_id\n",
    "        self.name: str = name\n",
    "        self.observations_amount: int = observations_amount\n",
    "\n",
    "\n",
    "metadata: dict = json_data['metadata']\n",
    "\n",
    "satellite: Satellite = Satellite(\n",
    "    metadata['satellite_norad'],\n",
    "    metadata['satellite_name'],\n",
    "    metadata['total_frames']\n",
    ")\n",
    "\n",
    "# Note '...' means there might be more same data\n",
    "\n",
    "# column_tags look like:\n",
    "# \"column_tags\": {\n",
    "#               \"some_variable\": \"variable\",\n",
    "#               \"some_constant\": \"constant\",\n",
    "#               ... \n",
    "#               \"some_status\": \"status\"\n",
    "#             }\n",
    "solar_and_satellite_parameters: dict = metadata['analysis']['column_tags']\n",
    "\n",
    "# feature_columns looks like:\n",
    "# \"feature_columns\": [\n",
    "#                 \"Fredericksburg A\",\n",
    "#                 \"Fredericksburg K 0-3\"\n",
    "#                 ]\n",
    "solar_parameters: list = metadata['analysis']['feature_columns']\n",
    "\n",
    "# frames look like (fields might contain both satellite and solar parameters):\n",
    "# \"frames\": [\n",
    "#         {\n",
    "#             \"time\": \"2019-07-02 18:15:08\",\n",
    "#             \"measurement\": \"\",\n",
    "#             \"tags\": {\n",
    "#                 \"satellite\": \"\",\n",
    "#                 \"decoder\": \"Lightsail2\",\n",
    "#                 \"station\": \"\",\n",
    "#                 \"observer\": \"\",\n",
    "#                 \"source\": \"\",\n",
    "#                 \"version\": \"1.66.0\"\n",
    "#             },\n",
    "#             \"fields\": {\n",
    "#                 \"dest_callsign\": {\n",
    "#                     \"value\": \"N6CP  \",\n",
    "#                     \"unit\": null\n",
    "#                 },\n",
    "#                 \"Fredericksburg A\": {\n",
    "#                     \"value\": 3.3125,\n",
    "#                     \"unit\": \"V\"\n",
    "#                 },\n",
    "#                 ...\n",
    "#             }\n",
    "#         },\n",
    "#         ...\n",
    "#     ]\n",
    "\n",
    "frames: list = json_data['frames']\n",
    "\n",
    "# Todo: add correlation analysis, like satellite value vs solar value by time using pandas and scipy stats\n",
    "for frame_index in range(len(frames)):\n",
    "    observation_time_point: str = frames[frame_index]['time']\n",
    "    observation_fields: dict = frames[frame_index]['fields']"
   ],
   "metadata": {
    "collapsed": false,
    "ExecuteTime": {
     "end_time": "2024-03-04T15:12:09.311755368Z",
     "start_time": "2024-03-04T15:12:07.032718977Z"
    }
   },
   "id": "b4584750b82ba0f0",
   "execution_count": 9
  }
 ],
 "metadata": {
  "kernelspec": {
   "display_name": "Python 3",
   "language": "python",
   "name": "python3"
  },
  "language_info": {
   "codemirror_mode": {
    "name": "ipython",
    "version": 2
   },
   "file_extension": ".py",
   "mimetype": "text/x-python",
   "name": "python",
   "nbconvert_exporter": "python",
   "pygments_lexer": "ipython2",
   "version": "2.7.6"
  }
 },
 "nbformat": 4,
 "nbformat_minor": 5
}
