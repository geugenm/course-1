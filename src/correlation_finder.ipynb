{
 "cells": [
  {
   "cell_type": "code",
   "execution_count": 18,
   "id": "initial_id",
   "metadata": {
    "collapsed": true,
    "ExecuteTime": {
     "end_time": "2024-02-03T07:54:26.430620741Z",
     "start_time": "2024-02-03T07:54:26.283645038Z"
    }
   },
   "outputs": [],
   "source": [
    "import json\n",
    "import os\n",
    "import typing\n",
    "from typing import Union\n",
    "\n",
    "import pandas as pd\n",
    "import seaborn as sns\n",
    "from matplotlib import pyplot as plt\n",
    "from pandas import DataFrame"
   ]
  },
  {
   "cell_type": "code",
   "outputs": [],
   "source": [
    "# Define the list of years to analyze\n",
    "years_to_analyze: typing.List[int] = [2023, 2019, 2014]"
   ],
   "metadata": {
    "collapsed": false,
    "ExecuteTime": {
     "end_time": "2024-02-03T07:54:26.441833870Z",
     "start_time": "2024-02-03T07:54:26.432136914Z"
    }
   },
   "id": "8152b4549ed6a92f",
   "execution_count": 19
  },
  {
   "cell_type": "code",
   "outputs": [
    {
     "name": "stdout",
     "output_type": "stream",
     "text": [
      "     time-tag    ssn  smoothed_ssn\n",
      "3180  2014-01  117.0         109.3\n",
      "3181  2014-02  146.1         110.5\n",
      "3182  2014-03  128.7         114.3\n",
      "3183  2014-04  112.5         116.4\n",
      "3184  2014-05  112.5         115.0\n",
      "3185  2014-06  102.9         114.1\n",
      "3186  2014-07  100.2         112.6\n",
      "3187  2014-08  106.9         108.3\n",
      "3188  2014-09  130.0         101.9\n",
      "3189  2014-10   90.0          97.3\n",
      "3190  2014-11  103.6          94.7\n",
      "3191  2014-12  112.9          92.2\n",
      "3240  2019-01    7.7           5.4\n",
      "3241  2019-02    0.8           5.0\n",
      "3242  2019-03    9.4           4.6\n",
      "3243  2019-04    9.1           4.3\n",
      "3244  2019-05    9.9           3.9\n",
      "3245  2019-06    1.2           3.7\n",
      "3246  2019-07    0.9           3.5\n",
      "3247  2019-08    0.5           3.4\n",
      "3248  2019-09    1.1           3.1\n",
      "3249  2019-10    0.4           2.6\n",
      "3250  2019-11    0.5           2.0\n",
      "3251  2019-12    1.5           1.8\n",
      "3288  2023-01  144.4         113.3\n",
      "3289  2023-02  111.3         117.8\n",
      "3290  2023-03  123.3         121.0\n",
      "3291  2023-04   97.6         122.7\n",
      "3292  2023-05  137.4         123.9\n",
      "3293  2023-06  160.5         125.0\n",
      "3294  2023-07  159.1          -1.0\n",
      "3295  2023-08  114.8          -1.0\n",
      "3296  2023-09  133.6          -1.0\n",
      "3297  2023-10   99.4          -1.0\n",
      "3298  2023-11  105.4          -1.0\n",
      "3299  2023-12  114.2          -1.0\n"
     ]
    }
   ],
   "source": [
    "observed_solar_cycle_indices_file: os.path = '../data/observed_solar_cycle_indices.json'\n",
    "if not os.path.isfile(observed_solar_cycle_indices_file):\n",
    "    raise FileNotFoundError(\n",
    "        f\"The file {observed_solar_cycle_indices_file} does not exist.\")\n",
    "\n",
    "with open(observed_solar_cycle_indices_file, 'r') as f:\n",
    "    solar_data = json.load(f)\n",
    "\n",
    "filtered_data = []\n",
    "for item in solar_data:\n",
    "    filtered_data.append({\n",
    "        'time-tag': item['time-tag'],\n",
    "        'ssn': item['ssn'],\n",
    "        'smoothed_ssn': item['smoothed_ssn']\n",
    "    })\n",
    "\n",
    "df_solar = pd.DataFrame(filtered_data)\n",
    "\n",
    "# Convert time-tag to datetime\n",
    "df_solar['time-tag'] = pd.to_datetime(df_solar['time-tag'])\n",
    "\n",
    "df_solar['time-tag'] = df_solar['time-tag'].dt.to_period('M')\n",
    "\n",
    "# Filter data for the specified years\n",
    "df_solar = df_solar[df_solar['time-tag'].dt.year.isin(years_to_analyze)]\n",
    "\n",
    "print(df_solar)"
   ],
   "metadata": {
    "collapsed": false,
    "ExecuteTime": {
     "end_time": "2024-02-03T07:54:26.483351781Z",
     "start_time": "2024-02-03T07:54:26.443454229Z"
    }
   },
   "id": "73800b91f571947a",
   "execution_count": 20
  },
  {
   "cell_type": "code",
   "outputs": [
    {
     "name": "stdout",
     "output_type": "stream",
     "text": [
      "           Time  resets\n",
      "0    2019-01-05   675.0\n",
      "1    2019-01-06   677.0\n",
      "2    2019-01-07   677.0\n",
      "3    2019-01-08   678.0\n",
      "4    2019-01-09   678.0\n",
      "...         ...     ...\n",
      "1817 2023-12-27  1806.0\n",
      "1818 2023-12-28  1806.0\n",
      "1819 2023-12-29  1807.0\n",
      "1820 2023-12-30  1808.0\n",
      "1821 2023-12-31  1808.0\n",
      "\n",
      "[726 rows x 2 columns]\n"
     ]
    }
   ],
   "source": [
    "def load_filtered_data(file_path: os.path, years_filter: typing.List[int]):\n",
    "    if not os.path.isfile(file_path):\n",
    "        raise FileNotFoundError(f\"The file {file_path} does not exist.\")\n",
    "\n",
    "    # Load CSV data\n",
    "    result: pd.DataFrame = pd.read_csv(file_path)\n",
    "\n",
    "    # Convert Time to datetime\n",
    "    result['Time'] = pd.to_datetime(result['Time'])\n",
    "\n",
    "    # Normalize time to midnight\n",
    "    result['Time'] = result['Time'].dt.normalize()\n",
    "\n",
    "    # Filter data for the specified years\n",
    "    return result[result['Time'].dt.year.isin(years_filter)]\n",
    "\n",
    "\n",
    "def group_dataframe_by_year_and_month(data_frame: pd.DataFrame):\n",
    "    # Group by year and month, and calculate median of resets\n",
    "    data_frame['Month'] = data_frame['Time'].dt.to_period('M')\n",
    "    result: pd.DataFrame = data_frame.groupby('Month')['resets'].median()\n",
    "    return result.reset_index()\n"
   ],
   "metadata": {
    "collapsed": false,
    "ExecuteTime": {
     "end_time": "2024-02-03T07:54:26.540731728Z",
     "start_time": "2024-02-03T07:54:26.483823438Z"
    }
   },
   "id": "2db1144e88f85dfe",
   "execution_count": 21
  },
  {
   "cell_type": "code",
   "outputs": [],
   "source": [
    "grifex_resets_data: os.path = '../data/GRIFEX/resets.csv'\n",
    "\n",
    "df_resets = load_filtered_data(grifex_resets_data, years_to_analyze)\n",
    "\n",
    "print(df_resets)"
   ],
   "metadata": {
    "collapsed": false
   },
   "id": "a9a394bb7ab3021b"
  },
  {
   "cell_type": "code",
   "outputs": [
    {
     "name": "stdout",
     "output_type": "stream",
     "text": [
      "      Month  resets\n",
      "0   2019-01   684.0\n",
      "1   2019-02   698.5\n",
      "2   2019-03   723.0\n",
      "3   2019-04   742.0\n",
      "4   2019-05   760.0\n",
      "5   2019-06   782.5\n",
      "6   2019-07   806.0\n",
      "7   2019-08   829.0\n",
      "8   2019-09   848.5\n",
      "9   2019-10   870.0\n",
      "10  2019-11   895.5\n",
      "11  2019-12   919.0\n",
      "12  2023-01  1607.0\n",
      "13  2023-02  1624.5\n",
      "14  2023-03  1642.0\n",
      "15  2023-04  1659.5\n",
      "16  2023-05  1677.0\n",
      "17  2023-06  1698.5\n",
      "18  2023-07  1721.0\n",
      "19  2023-08     2.0\n",
      "20  2023-09     0.0\n",
      "21  2023-10  1749.0\n",
      "22  2023-11  1774.0\n",
      "23  2023-12  1798.0\n"
     ]
    }
   ],
   "source": [
    "median_resets = group_dataframe_by_year_and_month(df_resets)\n",
    "\n",
    "print(median_resets)"
   ],
   "metadata": {
    "collapsed": false,
    "ExecuteTime": {
     "end_time": "2024-02-03T07:54:26.541257437Z",
     "start_time": "2024-02-03T07:54:26.536574626Z"
    }
   },
   "id": "26aff19d8c042269",
   "execution_count": 22
  },
  {
   "cell_type": "code",
   "outputs": [
    {
     "name": "stdout",
     "output_type": "stream",
     "text": [
      "Correlation between resets and ssn: 0.5448282190035044\n"
     ]
    }
   ],
   "source": [
    "# Merge median_resets and df_solar\n",
    "merged_df: DataFrame = pd.merge(median_resets, df_solar, left_on='Month',\n",
    "                                right_on='time-tag')\n",
    "\n",
    "# Calculate correlation\n",
    "correlation: Union[float, DataFrame] = merged_df['resets'].corr(\n",
    "    merged_df['ssn'])\n",
    "\n",
    "# Print correlation\n",
    "print(f\"Correlation between resets and ssn: {correlation}\")"
   ],
   "metadata": {
    "collapsed": false,
    "ExecuteTime": {
     "end_time": "2024-02-03T08:08:29.976745140Z",
     "start_time": "2024-02-03T08:08:29.933712036Z"
    }
   },
   "id": "e262dba6fc245168",
   "execution_count": 26
  },
  {
   "cell_type": "code",
   "outputs": [
    {
     "data": {
      "text/plain": "<Figure size 1000x600 with 1 Axes>",
      "image/png": "[encoded data removed]"
     },
     "metadata": {},
     "output_type": "display_data"
    }
   ],
   "source": [
    "# Create a scatter plot\n",
    "plt.figure(figsize=(10, 6))\n",
    "sns.scatterplot(data=merged_df, x='resets', y='ssn')\n",
    "plt.title('Correlation between resets and ssn')\n",
    "plt.show()"
   ],
   "metadata": {
    "collapsed": false,
    "ExecuteTime": {
     "end_time": "2024-02-03T07:54:26.714378675Z",
     "start_time": "2024-02-03T07:54:26.537030173Z"
    }
   },
   "id": "bbf61266f283bf5f",
   "execution_count": 24
  },
  {
   "cell_type": "code",
   "outputs": [
    {
     "name": "stdout",
     "output_type": "stream",
     "text": [
      "Moderate linear relationship between resets and ssn.\n",
      "          resets       ssn\n",
      "resets  1.000000  0.544828\n",
      "ssn     0.544828  1.000000\n"
     ]
    }
   ],
   "source": [
    "# Analyze correlation\n",
    "if abs(correlation) > 0.9:\n",
    "    print(\"Strong linear relationship between resets and ssn.\")\n",
    "elif abs(correlation) > 0.5:\n",
    "    print(\"Moderate linear relationship between resets and ssn.\")\n",
    "else:\n",
    "    print(\"Little to no linear relationship between resets and ssn.\")\n",
    "\n",
    "# Create a correlation matrix\n",
    "corr_matrix = merged_df[['resets', 'ssn']].corr()\n",
    "\n",
    "print(corr_matrix)\n"
   ],
   "metadata": {
    "collapsed": false
   },
   "id": "d324394a55f8477d",
   "execution_count": 25
  },
  {
   "cell_type": "code",
   "outputs": [],
   "source": [],
   "metadata": {
    "collapsed": false
   },
   "id": "13a9a8e60b33a340",
   "execution_count": 25
  }
 ],
 "metadata": {
  "kernelspec": {
   "display_name": "Python 3",
   "language": "python",
   "name": "python3"
  },
  "language_info": {
   "codemirror_mode": {
    "name": "ipython",
    "version": 2
   },
   "file_extension": ".py",
   "mimetype": "text/x-python",
   "name": "python",
   "nbconvert_exporter": "python",
   "pygments_lexer": "ipython2",
   "version": "2.7.6"
  }
 },
 "nbformat": 4,
 "nbformat_minor": 5
}
