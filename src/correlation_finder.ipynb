{
 "cells": [
  {
   "cell_type": "code",
   "execution_count": 46,
   "id": "initial_id",
   "metadata": {
    "collapsed": true,
    "ExecuteTime": {
     "end_time": "2024-02-03T11:36:30.007517733Z",
     "start_time": "2024-02-03T11:36:29.974078143Z"
    }
   },
   "outputs": [],
   "source": [
    "import json\n",
    "import os\n",
    "from typing import List, Dict, Any\n",
    "\n",
    "import pandas as pd\n",
    "import seaborn as sns\n",
    "from matplotlib import pyplot as plt\n",
    "from scipy.stats import spearmanr, kendalltau"
   ]
  },
  {
   "cell_type": "code",
   "outputs": [],
   "source": [
    "# Define the list of years to analyze\n",
    "years_to_analyze: List[int] = [2023, 2022, 2021, 2020, 2019, 2018, 2017,\n",
    "                               2016, 2015, 2014]"
   ],
   "metadata": {
    "collapsed": false,
    "ExecuteTime": {
     "end_time": "2024-02-03T11:36:30.008046119Z",
     "start_time": "2024-02-03T11:36:29.990396857Z"
    }
   },
   "id": "8152b4549ed6a92f",
   "execution_count": 47
  },
  {
   "cell_type": "code",
   "outputs": [],
   "source": [
    "def load_json_data(file_path: str) -> pd.DataFrame:\n",
    "    \"\"\"Load data from JSON file.\"\"\"\n",
    "    if not os.path.isfile(file_path):\n",
    "        raise FileNotFoundError(f\"The file {file_path} does not exist.\")\n",
    "\n",
    "    with open(file_path, 'r') as f:\n",
    "        data = json.load(f)\n",
    "\n",
    "    # Assuming that all items in the JSON file have the same structure\n",
    "    keys: List[str] = list(data[0].keys())\n",
    "    filtered_data: List[Dict[str, Any]] = [{key: item[key] for key in keys} for\n",
    "                                           item in data]\n",
    "\n",
    "    df: pd.DataFrame = pd.DataFrame(filtered_data)\n",
    "\n",
    "    df.rename(columns={'time-tag': 'time'}, inplace=True)\n",
    "\n",
    "    target: str = 'time'\n",
    "\n",
    "    if target in keys:\n",
    "        df[target] = pd.to_datetime(df[target], errors='coerce')\n",
    "        df[target] = df[target].dt.to_period('M')\n",
    "\n",
    "    return df\n",
    "\n",
    "\n",
    "observed_solar_cycle_data_path: os.path = '../data/observed_solar_cycle_indices.json'\n",
    "df_solar = load_json_data(observed_solar_cycle_data_path)"
   ],
   "metadata": {
    "collapsed": false,
    "ExecuteTime": {
     "end_time": "2024-02-03T11:36:30.022342131Z",
     "start_time": "2024-02-03T11:36:30.007758827Z"
    }
   },
   "id": "73800b91f571947a",
   "execution_count": 48
  },
  {
   "cell_type": "code",
   "outputs": [],
   "source": [
    "class DataAnalyzer:\n",
    "    \"\"\"\n",
    "    A class used to analyze and visualize data from CSV files.\n",
    "    \"\"\"\n",
    "    solar_property: str\n",
    "    sat_property_col: str\n",
    "    time_col: str\n",
    "    years_filter: List[int]\n",
    "    file_path: str\n",
    "\n",
    "    def __init__(self, file_path: str, years_filter: List[int],\n",
    "                 time_col: str,\n",
    "                 sat_property_col: str, solar_property: str):\n",
    "        \"\"\"\n",
    "        Constructs all the necessary attributes for the DataAnalyzer object.\n",
    "\n",
    "        :param file_path: Path to the csv file\n",
    "        :param years_filter: List of years to filter data\n",
    "        :param time_col: Name of the time column in the DataFrame\n",
    "        :param sat_property_col: Name of the satellite property(such as resets etc.) column in the DataFrame\n",
    "        :param solar_property: Name of the solar_property column in the DataFrame\n",
    "        \"\"\"\n",
    "        self.file_path = file_path\n",
    "        self.years_filter = years_filter\n",
    "        self.time_col = time_col\n",
    "        self.sat_property_col = sat_property_col\n",
    "        self.solar_property = solar_property\n",
    "        self.df_sat_property = None\n",
    "        self.median_sat_property = None\n",
    "        self.merged_df = None\n",
    "        self.correlation = None\n",
    "        self.corr_matrix = None\n",
    "        self.spearman_corr = None\n",
    "        self.kendall_corr = None\n",
    "\n",
    "    def load_filtered_data(self):\n",
    "        \"\"\"\n",
    "        Loads the data from the csv file and filters it based on the specified years.\n",
    "        \"\"\"\n",
    "        if not os.path.isfile(self.file_path):\n",
    "            raise FileNotFoundError(\n",
    "                f\"The file {self.file_path} does not exist.\")\n",
    "\n",
    "        result: pd.DataFrame = pd.read_csv(self.file_path)\n",
    "        result[self.time_col] = pd.to_datetime(result[self.time_col])\n",
    "        result[self.time_col] = result[self.time_col].dt.normalize()\n",
    "\n",
    "        self.df_sat_property = result[\n",
    "            result[self.time_col].dt.year.isin(self.years_filter)]\n",
    "\n",
    "    def group_dataframe_by_year_and_month(self):\n",
    "        \"\"\"\n",
    "        Groups the dataframe by year and month, and calculates the median of resets.\n",
    "        \"\"\"\n",
    "        self.df_sat_property['Month'] = self.df_sat_property[\n",
    "            self.time_col].dt.to_period(\n",
    "            'M')\n",
    "        self.median_sat_property = self.df_sat_property.groupby('Month')[\n",
    "            self.sat_property_col].median().reset_index()\n",
    "\n",
    "    def merge_dataframes(self, df_solar: pd.DataFrame, left_on: str,\n",
    "                         right_on: str):\n",
    "        \"\"\"\n",
    "        Merges the median dataframe with another dataframe.\n",
    "    \n",
    "        :param df_solar: The other dataframe to merge with\n",
    "        :param left_on: The column name in the median dataframe to merge on\n",
    "        :param right_on: The column name in the other dataframe to merge on\n",
    "        \"\"\"\n",
    "        self.merged_df = pd.merge(self.median_sat_property, df_solar,\n",
    "                                  left_on=left_on,\n",
    "                                  right_on=right_on)\n",
    "        self.correlation = self.merged_df[self.sat_property_col].corr(\n",
    "            self.merged_df[self.solar_property])\n",
    "        self.corr_matrix = self.merged_df[\n",
    "            [self.sat_property_col, self.solar_property]].corr()\n",
    "\n",
    "        self.spearman_corr, _ = spearmanr(self.merged_df[self.sat_property_col],\n",
    "                                          self.merged_df[self.solar_property])\n",
    "\n",
    "        self.kendall_corr, _ = kendalltau(self.merged_df[self.sat_property_col],\n",
    "                                          self.merged_df[self.solar_property])\n",
    "\n",
    "    def create_scatter_plot(self):\n",
    "        \"\"\"\n",
    "        Creates a scatter plot showing the correlation between resets and ssn.\n",
    "        \"\"\"\n",
    "        plt.figure(figsize=(10, 6))\n",
    "        sns.scatterplot(data=self.merged_df, x=self.sat_property_col,\n",
    "                        y=self.solar_property)\n",
    "        plt.title('Correlation between {} and {}'.format(self.sat_property_col,\n",
    "                                                         self.solar_property))\n",
    "        plt.show()\n",
    "\n",
    "    def run_analysis(self, df_solar: pd.DataFrame, left_on: str, right_on: str):\n",
    "        \"\"\"\n",
    "        Runs the full analysis process.\n",
    "    \n",
    "        :param df_solar: The other dataframe to merge with\n",
    "        :param left_on: The column name in the median dataframe to merge on\n",
    "        :param right_on: The column name in the other dataframe to merge on\n",
    "        \"\"\"\n",
    "        self.load_filtered_data()\n",
    "        self.group_dataframe_by_year_and_month()\n",
    "        self.merge_dataframes(df_solar, left_on, right_on)\n",
    "        self.create_scatter_plot()\n"
   ],
   "metadata": {
    "collapsed": false,
    "ExecuteTime": {
     "end_time": "2024-02-03T11:36:30.039060959Z",
     "start_time": "2024-02-03T11:36:30.023508820Z"
    }
   },
   "id": "f4de9e217405f73e",
   "execution_count": 49
  },
  {
   "cell_type": "code",
   "outputs": [],
   "source": [
    "griffex_base_path: os.path = '../data/GRIFFEX/'\n",
    "satellite_data_time_column_name: str = 'Time'\n",
    "left_on: str = 'Month'\n",
    "right_on: str = 'time'\n",
    "\n",
    "\n",
    "def analyze_griffex(file_name: str, target_col: str) -> None:\n",
    "    data: os.path = os.path.join(griffex_base_path, file_name)\n",
    "\n",
    "    sun_variables = list(df_solar)\n",
    "    sun_variables.remove('time')\n",
    "\n",
    "    for sun_variable in sun_variables:\n",
    "        analyzer: DataAnalyzer = DataAnalyzer(data,\n",
    "                                              years_to_analyze,\n",
    "                                              satellite_data_time_column_name,\n",
    "                                              target_col, sun_variable)\n",
    "        analyzer.run_analysis(df_solar, left_on, right_on)\n",
    "\n",
    "        print(\"Analysis results:\")\n",
    "        print(f\"Spearman's rank correlation: {analyzer.spearman_corr}\")\n",
    "        print(f\"Kendall's tau: {analyzer.kendall_corr}\")\n",
    "        print(f\"Correlation:  {analyzer.correlation}\")\n",
    "        print(analyzer.corr_matrix)"
   ],
   "metadata": {
    "collapsed": false,
    "ExecuteTime": {
     "end_time": "2024-02-03T11:36:30.082098559Z",
     "start_time": "2024-02-03T11:36:30.081667085Z"
    }
   },
   "id": "bd4e6118942c0a60",
   "execution_count": 50
  },
  {
   "cell_type": "code",
   "outputs": [
    {
     "ename": "ValueError",
     "evalue": "You are trying to merge on period[M] and object columns. If you wish to proceed you should use pd.concat",
     "output_type": "error",
     "traceback": [
      "\u001B[0;31m---------------------------------------------------------------------------\u001B[0m",
      "\u001B[0;31mValueError\u001B[0m                                Traceback (most recent call last)",
      "Cell \u001B[0;32mIn[51], line 1\u001B[0m\n\u001B[0;32m----> 1\u001B[0m \u001B[43manalyze_griffex\u001B[49m\u001B[43m(\u001B[49m\u001B[38;5;124;43m'\u001B[39;49m\u001B[38;5;124;43mresets.csv\u001B[39;49m\u001B[38;5;124;43m'\u001B[39;49m\u001B[43m,\u001B[49m\u001B[43m \u001B[49m\u001B[38;5;124;43m'\u001B[39;49m\u001B[38;5;124;43mresets\u001B[39;49m\u001B[38;5;124;43m'\u001B[39;49m\u001B[43m)\u001B[49m\n",
      "Cell \u001B[0;32mIn[50], line 18\u001B[0m, in \u001B[0;36manalyze_griffex\u001B[0;34m(file_name, target_col)\u001B[0m\n\u001B[1;32m     13\u001B[0m \u001B[38;5;28;01mfor\u001B[39;00m sun_variable \u001B[38;5;129;01min\u001B[39;00m sun_variables:\n\u001B[1;32m     14\u001B[0m     analyzer: DataAnalyzer \u001B[38;5;241m=\u001B[39m DataAnalyzer(data,\n\u001B[1;32m     15\u001B[0m                                           years_to_analyze,\n\u001B[1;32m     16\u001B[0m                                           satellite_data_time_column_name,\n\u001B[1;32m     17\u001B[0m                                           target_col, sun_variable)\n\u001B[0;32m---> 18\u001B[0m     \u001B[43manalyzer\u001B[49m\u001B[38;5;241;43m.\u001B[39;49m\u001B[43mrun_analysis\u001B[49m\u001B[43m(\u001B[49m\u001B[43mdf_solar\u001B[49m\u001B[43m,\u001B[49m\u001B[43m \u001B[49m\u001B[43mleft_on\u001B[49m\u001B[43m,\u001B[49m\u001B[43m \u001B[49m\u001B[43mright_on\u001B[49m\u001B[43m)\u001B[49m\n\u001B[1;32m     20\u001B[0m     \u001B[38;5;28mprint\u001B[39m(\u001B[38;5;124m\"\u001B[39m\u001B[38;5;124mAnalysis results:\u001B[39m\u001B[38;5;124m\"\u001B[39m)\n\u001B[1;32m     21\u001B[0m     \u001B[38;5;28mprint\u001B[39m(\u001B[38;5;124mf\u001B[39m\u001B[38;5;124m\"\u001B[39m\u001B[38;5;124mSpearman\u001B[39m\u001B[38;5;124m'\u001B[39m\u001B[38;5;124ms rank correlation: \u001B[39m\u001B[38;5;132;01m{\u001B[39;00manalyzer\u001B[38;5;241m.\u001B[39mspearman_corr\u001B[38;5;132;01m}\u001B[39;00m\u001B[38;5;124m\"\u001B[39m)\n",
      "Cell \u001B[0;32mIn[49], line 105\u001B[0m, in \u001B[0;36mDataAnalyzer.run_analysis\u001B[0;34m(self, df_solar, left_on, right_on)\u001B[0m\n\u001B[1;32m    103\u001B[0m \u001B[38;5;28mself\u001B[39m\u001B[38;5;241m.\u001B[39mload_filtered_data()\n\u001B[1;32m    104\u001B[0m \u001B[38;5;28mself\u001B[39m\u001B[38;5;241m.\u001B[39mgroup_dataframe_by_year_and_month()\n\u001B[0;32m--> 105\u001B[0m \u001B[38;5;28;43mself\u001B[39;49m\u001B[38;5;241;43m.\u001B[39;49m\u001B[43mmerge_dataframes\u001B[49m\u001B[43m(\u001B[49m\u001B[43mdf_solar\u001B[49m\u001B[43m,\u001B[49m\u001B[43m \u001B[49m\u001B[43mleft_on\u001B[49m\u001B[43m,\u001B[49m\u001B[43m \u001B[49m\u001B[43mright_on\u001B[49m\u001B[43m)\u001B[49m\n\u001B[1;32m    106\u001B[0m \u001B[38;5;28mself\u001B[39m\u001B[38;5;241m.\u001B[39mcreate_scatter_plot()\n",
      "Cell \u001B[0;32mIn[49], line 70\u001B[0m, in \u001B[0;36mDataAnalyzer.merge_dataframes\u001B[0;34m(self, df_solar, left_on, right_on)\u001B[0m\n\u001B[1;32m     61\u001B[0m \u001B[38;5;28;01mdef\u001B[39;00m \u001B[38;5;21mmerge_dataframes\u001B[39m(\u001B[38;5;28mself\u001B[39m, df_solar: pd\u001B[38;5;241m.\u001B[39mDataFrame, left_on: \u001B[38;5;28mstr\u001B[39m,\n\u001B[1;32m     62\u001B[0m                      right_on: \u001B[38;5;28mstr\u001B[39m):\n\u001B[1;32m     63\u001B[0m \u001B[38;5;250m    \u001B[39m\u001B[38;5;124;03m\"\"\"\u001B[39;00m\n\u001B[1;32m     64\u001B[0m \u001B[38;5;124;03m    Merges the median dataframe with another dataframe.\u001B[39;00m\n\u001B[1;32m     65\u001B[0m \u001B[38;5;124;03m\u001B[39;00m\n\u001B[0;32m   (...)\u001B[0m\n\u001B[1;32m     68\u001B[0m \u001B[38;5;124;03m    :param right_on: The column name in the other dataframe to merge on\u001B[39;00m\n\u001B[1;32m     69\u001B[0m \u001B[38;5;124;03m    \"\"\"\u001B[39;00m\n\u001B[0;32m---> 70\u001B[0m     \u001B[38;5;28mself\u001B[39m\u001B[38;5;241m.\u001B[39mmerged_df \u001B[38;5;241m=\u001B[39m \u001B[43mpd\u001B[49m\u001B[38;5;241;43m.\u001B[39;49m\u001B[43mmerge\u001B[49m\u001B[43m(\u001B[49m\u001B[38;5;28;43mself\u001B[39;49m\u001B[38;5;241;43m.\u001B[39;49m\u001B[43mmedian_sat_property\u001B[49m\u001B[43m,\u001B[49m\u001B[43m \u001B[49m\u001B[43mdf_solar\u001B[49m\u001B[43m,\u001B[49m\n\u001B[1;32m     71\u001B[0m \u001B[43m                              \u001B[49m\u001B[43mleft_on\u001B[49m\u001B[38;5;241;43m=\u001B[39;49m\u001B[43mleft_on\u001B[49m\u001B[43m,\u001B[49m\n\u001B[1;32m     72\u001B[0m \u001B[43m                              \u001B[49m\u001B[43mright_on\u001B[49m\u001B[38;5;241;43m=\u001B[39;49m\u001B[43mright_on\u001B[49m\u001B[43m)\u001B[49m\n\u001B[1;32m     73\u001B[0m     \u001B[38;5;28mself\u001B[39m\u001B[38;5;241m.\u001B[39mcorrelation \u001B[38;5;241m=\u001B[39m \u001B[38;5;28mself\u001B[39m\u001B[38;5;241m.\u001B[39mmerged_df[\u001B[38;5;28mself\u001B[39m\u001B[38;5;241m.\u001B[39msat_property_col]\u001B[38;5;241m.\u001B[39mcorr(\n\u001B[1;32m     74\u001B[0m         \u001B[38;5;28mself\u001B[39m\u001B[38;5;241m.\u001B[39mmerged_df[\u001B[38;5;28mself\u001B[39m\u001B[38;5;241m.\u001B[39msolar_property])\n\u001B[1;32m     75\u001B[0m     \u001B[38;5;28mself\u001B[39m\u001B[38;5;241m.\u001B[39mcorr_matrix \u001B[38;5;241m=\u001B[39m \u001B[38;5;28mself\u001B[39m\u001B[38;5;241m.\u001B[39mmerged_df[\n\u001B[1;32m     76\u001B[0m         [\u001B[38;5;28mself\u001B[39m\u001B[38;5;241m.\u001B[39msat_property_col, \u001B[38;5;28mself\u001B[39m\u001B[38;5;241m.\u001B[39msolar_property]]\u001B[38;5;241m.\u001B[39mcorr()\n",
      "File \u001B[0;32m~/anaconda3/envs/course/lib/python3.8/site-packages/pandas/core/reshape/merge.py:148\u001B[0m, in \u001B[0;36mmerge\u001B[0;34m(left, right, how, on, left_on, right_on, left_index, right_index, sort, suffixes, copy, indicator, validate)\u001B[0m\n\u001B[1;32m    131\u001B[0m \u001B[38;5;129m@Substitution\u001B[39m(\u001B[38;5;124m\"\u001B[39m\u001B[38;5;130;01m\\n\u001B[39;00m\u001B[38;5;124mleft : DataFrame or named Series\u001B[39m\u001B[38;5;124m\"\u001B[39m)\n\u001B[1;32m    132\u001B[0m \u001B[38;5;129m@Appender\u001B[39m(_merge_doc, indents\u001B[38;5;241m=\u001B[39m\u001B[38;5;241m0\u001B[39m)\n\u001B[1;32m    133\u001B[0m \u001B[38;5;28;01mdef\u001B[39;00m \u001B[38;5;21mmerge\u001B[39m(\n\u001B[0;32m   (...)\u001B[0m\n\u001B[1;32m    146\u001B[0m     validate: \u001B[38;5;28mstr\u001B[39m \u001B[38;5;241m|\u001B[39m \u001B[38;5;28;01mNone\u001B[39;00m \u001B[38;5;241m=\u001B[39m \u001B[38;5;28;01mNone\u001B[39;00m,\n\u001B[1;32m    147\u001B[0m ) \u001B[38;5;241m-\u001B[39m\u001B[38;5;241m>\u001B[39m DataFrame:\n\u001B[0;32m--> 148\u001B[0m     op \u001B[38;5;241m=\u001B[39m \u001B[43m_MergeOperation\u001B[49m\u001B[43m(\u001B[49m\n\u001B[1;32m    149\u001B[0m \u001B[43m        \u001B[49m\u001B[43mleft\u001B[49m\u001B[43m,\u001B[49m\n\u001B[1;32m    150\u001B[0m \u001B[43m        \u001B[49m\u001B[43mright\u001B[49m\u001B[43m,\u001B[49m\n\u001B[1;32m    151\u001B[0m \u001B[43m        \u001B[49m\u001B[43mhow\u001B[49m\u001B[38;5;241;43m=\u001B[39;49m\u001B[43mhow\u001B[49m\u001B[43m,\u001B[49m\n\u001B[1;32m    152\u001B[0m \u001B[43m        \u001B[49m\u001B[43mon\u001B[49m\u001B[38;5;241;43m=\u001B[39;49m\u001B[43mon\u001B[49m\u001B[43m,\u001B[49m\n\u001B[1;32m    153\u001B[0m \u001B[43m        \u001B[49m\u001B[43mleft_on\u001B[49m\u001B[38;5;241;43m=\u001B[39;49m\u001B[43mleft_on\u001B[49m\u001B[43m,\u001B[49m\n\u001B[1;32m    154\u001B[0m \u001B[43m        \u001B[49m\u001B[43mright_on\u001B[49m\u001B[38;5;241;43m=\u001B[39;49m\u001B[43mright_on\u001B[49m\u001B[43m,\u001B[49m\n\u001B[1;32m    155\u001B[0m \u001B[43m        \u001B[49m\u001B[43mleft_index\u001B[49m\u001B[38;5;241;43m=\u001B[39;49m\u001B[43mleft_index\u001B[49m\u001B[43m,\u001B[49m\n\u001B[1;32m    156\u001B[0m \u001B[43m        \u001B[49m\u001B[43mright_index\u001B[49m\u001B[38;5;241;43m=\u001B[39;49m\u001B[43mright_index\u001B[49m\u001B[43m,\u001B[49m\n\u001B[1;32m    157\u001B[0m \u001B[43m        \u001B[49m\u001B[43msort\u001B[49m\u001B[38;5;241;43m=\u001B[39;49m\u001B[43msort\u001B[49m\u001B[43m,\u001B[49m\n\u001B[1;32m    158\u001B[0m \u001B[43m        \u001B[49m\u001B[43msuffixes\u001B[49m\u001B[38;5;241;43m=\u001B[39;49m\u001B[43msuffixes\u001B[49m\u001B[43m,\u001B[49m\n\u001B[1;32m    159\u001B[0m \u001B[43m        \u001B[49m\u001B[43mindicator\u001B[49m\u001B[38;5;241;43m=\u001B[39;49m\u001B[43mindicator\u001B[49m\u001B[43m,\u001B[49m\n\u001B[1;32m    160\u001B[0m \u001B[43m        \u001B[49m\u001B[43mvalidate\u001B[49m\u001B[38;5;241;43m=\u001B[39;49m\u001B[43mvalidate\u001B[49m\u001B[43m,\u001B[49m\n\u001B[1;32m    161\u001B[0m \u001B[43m    \u001B[49m\u001B[43m)\u001B[49m\n\u001B[1;32m    162\u001B[0m     \u001B[38;5;28;01mreturn\u001B[39;00m op\u001B[38;5;241m.\u001B[39mget_result(copy\u001B[38;5;241m=\u001B[39mcopy)\n",
      "File \u001B[0;32m~/anaconda3/envs/course/lib/python3.8/site-packages/pandas/core/reshape/merge.py:741\u001B[0m, in \u001B[0;36m_MergeOperation.__init__\u001B[0;34m(self, left, right, how, on, left_on, right_on, axis, left_index, right_index, sort, suffixes, indicator, validate)\u001B[0m\n\u001B[1;32m    733\u001B[0m (\n\u001B[1;32m    734\u001B[0m     \u001B[38;5;28mself\u001B[39m\u001B[38;5;241m.\u001B[39mleft_join_keys,\n\u001B[1;32m    735\u001B[0m     \u001B[38;5;28mself\u001B[39m\u001B[38;5;241m.\u001B[39mright_join_keys,\n\u001B[1;32m    736\u001B[0m     \u001B[38;5;28mself\u001B[39m\u001B[38;5;241m.\u001B[39mjoin_names,\n\u001B[1;32m    737\u001B[0m ) \u001B[38;5;241m=\u001B[39m \u001B[38;5;28mself\u001B[39m\u001B[38;5;241m.\u001B[39m_get_merge_keys()\n\u001B[1;32m    739\u001B[0m \u001B[38;5;66;03m# validate the merge keys dtypes. We may need to coerce\u001B[39;00m\n\u001B[1;32m    740\u001B[0m \u001B[38;5;66;03m# to avoid incompatible dtypes\u001B[39;00m\n\u001B[0;32m--> 741\u001B[0m \u001B[38;5;28;43mself\u001B[39;49m\u001B[38;5;241;43m.\u001B[39;49m\u001B[43m_maybe_coerce_merge_keys\u001B[49m\u001B[43m(\u001B[49m\u001B[43m)\u001B[49m\n\u001B[1;32m    743\u001B[0m \u001B[38;5;66;03m# If argument passed to validate,\u001B[39;00m\n\u001B[1;32m    744\u001B[0m \u001B[38;5;66;03m# check if columns specified as unique\u001B[39;00m\n\u001B[1;32m    745\u001B[0m \u001B[38;5;66;03m# are in fact unique.\u001B[39;00m\n\u001B[1;32m    746\u001B[0m \u001B[38;5;28;01mif\u001B[39;00m validate \u001B[38;5;129;01mis\u001B[39;00m \u001B[38;5;129;01mnot\u001B[39;00m \u001B[38;5;28;01mNone\u001B[39;00m:\n",
      "File \u001B[0;32m~/anaconda3/envs/course/lib/python3.8/site-packages/pandas/core/reshape/merge.py:1405\u001B[0m, in \u001B[0;36m_MergeOperation._maybe_coerce_merge_keys\u001B[0;34m(self)\u001B[0m\n\u001B[1;32m   1403\u001B[0m \u001B[38;5;66;03m# datetimelikes must match exactly\u001B[39;00m\n\u001B[1;32m   1404\u001B[0m \u001B[38;5;28;01melif\u001B[39;00m needs_i8_conversion(lk\u001B[38;5;241m.\u001B[39mdtype) \u001B[38;5;129;01mand\u001B[39;00m \u001B[38;5;129;01mnot\u001B[39;00m needs_i8_conversion(rk\u001B[38;5;241m.\u001B[39mdtype):\n\u001B[0;32m-> 1405\u001B[0m     \u001B[38;5;28;01mraise\u001B[39;00m \u001B[38;5;167;01mValueError\u001B[39;00m(msg)\n\u001B[1;32m   1406\u001B[0m \u001B[38;5;28;01melif\u001B[39;00m \u001B[38;5;129;01mnot\u001B[39;00m needs_i8_conversion(lk\u001B[38;5;241m.\u001B[39mdtype) \u001B[38;5;129;01mand\u001B[39;00m needs_i8_conversion(rk\u001B[38;5;241m.\u001B[39mdtype):\n\u001B[1;32m   1407\u001B[0m     \u001B[38;5;28;01mraise\u001B[39;00m \u001B[38;5;167;01mValueError\u001B[39;00m(msg)\n",
      "\u001B[0;31mValueError\u001B[0m: You are trying to merge on period[M] and object columns. If you wish to proceed you should use pd.concat"
     ]
    }
   ],
   "source": [
    "analyze_griffex('resets.csv', 'resets')"
   ],
   "metadata": {
    "collapsed": false,
    "ExecuteTime": {
     "end_time": "2024-02-03T11:36:30.109648328Z",
     "start_time": "2024-02-03T11:36:30.081815114Z"
    }
   },
   "id": "f0b69ebe11c36756",
   "execution_count": 51
  },
  {
   "cell_type": "code",
   "outputs": [],
   "source": [
    "analyze_griffex('data_mnt_usage.csv', '40379.median')"
   ],
   "metadata": {
    "collapsed": false,
    "ExecuteTime": {
     "start_time": "2024-02-03T11:36:30.109213960Z"
    }
   },
   "id": "5768ba700ce6b546",
   "execution_count": null
  },
  {
   "cell_type": "code",
   "outputs": [],
   "source": [
    "analyze_griffex('battery.csv', 'Battery')"
   ],
   "metadata": {
    "collapsed": false,
    "ExecuteTime": {
     "end_time": "2024-02-03T11:36:30.111780858Z",
     "start_time": "2024-02-03T11:36:30.111250508Z"
    }
   },
   "id": "6fb5ee59e91b6c0",
   "execution_count": null
  },
  {
   "cell_type": "code",
   "outputs": [],
   "source": [
    "analyze_griffex('memory_median.csv', '40379.median')"
   ],
   "metadata": {
    "collapsed": false,
    "ExecuteTime": {
     "start_time": "2024-02-03T11:36:30.113188941Z"
    }
   },
   "id": "8d9f1d48595162ef",
   "execution_count": null
  },
  {
   "cell_type": "code",
   "outputs": [],
   "source": [
    "analyze_griffex('memory_free_median.csv', '40379.freemem')"
   ],
   "metadata": {
    "collapsed": false,
    "ExecuteTime": {
     "end_time": "2024-02-03T11:36:30.120287429Z",
     "start_time": "2024-02-03T11:36:30.114633363Z"
    }
   },
   "id": "909d5748a0b74b0c",
   "execution_count": null
  },
  {
   "cell_type": "code",
   "outputs": [],
   "source": [
    "analyze_griffex('bus_current.csv', 'Battery Bus')"
   ],
   "metadata": {
    "collapsed": false,
    "ExecuteTime": {
     "start_time": "2024-02-03T11:36:30.115754156Z"
    }
   },
   "id": "96341c0fb856163b",
   "execution_count": null
  },
  {
   "cell_type": "code",
   "outputs": [],
   "source": [
    "analyze_griffex('bus_voltage.csv', 'Battery Bus')"
   ],
   "metadata": {
    "collapsed": false,
    "ExecuteTime": {
     "start_time": "2024-02-03T11:36:30.121660587Z"
    }
   },
   "id": "7b6bbd46d927b278",
   "execution_count": null
  },
  {
   "cell_type": "code",
   "outputs": [],
   "source": [
    "analyze_griffex('rssi.csv', '40379.min')"
   ],
   "metadata": {
    "collapsed": false,
    "ExecuteTime": {
     "start_time": "2024-02-03T11:36:30.121716061Z"
    }
   },
   "id": "dfe4b6fd2e5e1dc6",
   "execution_count": null
  }
 ],
 "metadata": {
  "kernelspec": {
   "display_name": "Python 3",
   "language": "python",
   "name": "python3"
  },
  "language_info": {
   "codemirror_mode": {
    "name": "ipython",
    "version": 2
   },
   "file_extension": ".py",
   "mimetype": "text/x-python",
   "name": "python",
   "nbconvert_exporter": "python",
   "pygments_lexer": "ipython2",
   "version": "2.7.6"
  }
 },
 "nbformat": 4,
 "nbformat_minor": 5
}
